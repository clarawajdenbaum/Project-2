{
  "nbformat": 4,
  "nbformat_minor": 0,
  "metadata": {
    "colab": {
      "name": "Stroke Predictions - Final",
      "provenance": [],
      "authorship_tag": "ABX9TyNMjkaPMFNYPL1AhAsIK69l",
      "include_colab_link": true
    },
    "kernelspec": {
      "name": "python3",
      "display_name": "Python 3"
    },
    "language_info": {
      "name": "python"
    }
  },
  "cells": [
    {
      "cell_type": "markdown",
      "metadata": {
        "id": "view-in-github",
        "colab_type": "text"
      },
      "source": [
        "<a href=\"https://colab.research.google.com/github/clarawajdenbaum/Project-2/blob/main/Stroke_Predictions_Final.ipynb\" target=\"_parent\"><img src=\"https://colab.research.google.com/assets/colab-badge.svg\" alt=\"Open In Colab\"/></a>"
      ]
    },
    {
      "cell_type": "code",
      "execution_count": 1,
      "metadata": {
        "colab": {
          "base_uri": "https://localhost:8080/"
        },
        "id": "_nIcMvASzakY",
        "outputId": "a2e04e63-0ceb-40cb-f4cf-b634948aa154"
      },
      "outputs": [
        {
          "output_type": "stream",
          "name": "stdout",
          "text": [
            "Mounted at /content/drive\n"
          ]
        }
      ],
      "source": [
        "from google.colab import drive\n",
        "drive.mount('/content/drive')"
      ]
    },
    {
      "cell_type": "code",
      "source": [
        "import pandas as pd \n",
        "import matplotlib.pyplot as plt\n",
        "import seaborn as sns\n",
        "import numpy as np\n",
        "from sklearn.model_selection import train_test_split, GridSearchCV\n",
        "from sklearn.compose import make_column_selector, make_column_transformer\n",
        "from sklearn.preprocessing import StandardScaler, OneHotEncoder\n",
        "from sklearn import set_config\n",
        "set_config(display='diagram')\n",
        "from sklearn.tree import DecisionTreeClassifier\n",
        "from sklearn.neighbors import KNeighborsClassifier\n",
        "from sklearn.pipeline import make_pipeline\n",
        "from sklearn.linear_model import LogisticRegression"
      ],
      "metadata": {
        "id": "peS-oEyyzmJk"
      },
      "execution_count": 62,
      "outputs": []
    },
    {
      "cell_type": "code",
      "source": [
        "df = pd.read_csv('/content/drive/MyDrive/Project 2/docs/archive.zip')\n",
        "corr = df.corr()\n",
        "df.head()"
      ],
      "metadata": {
        "colab": {
          "base_uri": "https://localhost:8080/",
          "height": 305
        },
        "id": "l82GmnnzzruT",
        "outputId": "33529a54-c76d-4fe8-9967-d12bbdf520c8"
      },
      "execution_count": 4,
      "outputs": [
        {
          "output_type": "execute_result",
          "data": {
            "text/plain": [
              "      id  gender   age  hypertension  heart_disease ever_married  \\\n",
              "0   9046    Male  67.0             0              1          Yes   \n",
              "1  51676  Female  61.0             0              0          Yes   \n",
              "2  31112    Male  80.0             0              1          Yes   \n",
              "3  60182  Female  49.0             0              0          Yes   \n",
              "4   1665  Female  79.0             1              0          Yes   \n",
              "\n",
              "       work_type Residence_type  avg_glucose_level   bmi   smoking_status  \\\n",
              "0        Private          Urban             228.69  36.6  formerly smoked   \n",
              "1  Self-employed          Rural             202.21   NaN     never smoked   \n",
              "2        Private          Rural             105.92  32.5     never smoked   \n",
              "3        Private          Urban             171.23  34.4           smokes   \n",
              "4  Self-employed          Rural             174.12  24.0     never smoked   \n",
              "\n",
              "   stroke  \n",
              "0       1  \n",
              "1       1  \n",
              "2       1  \n",
              "3       1  \n",
              "4       1  "
            ],
            "text/html": [
              "\n",
              "  <div id=\"df-d819226a-9494-442c-b6ea-279f080ab713\">\n",
              "    <div class=\"colab-df-container\">\n",
              "      <div>\n",
              "<style scoped>\n",
              "    .dataframe tbody tr th:only-of-type {\n",
              "        vertical-align: middle;\n",
              "    }\n",
              "\n",
              "    .dataframe tbody tr th {\n",
              "        vertical-align: top;\n",
              "    }\n",
              "\n",
              "    .dataframe thead th {\n",
              "        text-align: right;\n",
              "    }\n",
              "</style>\n",
              "<table border=\"1\" class=\"dataframe\">\n",
              "  <thead>\n",
              "    <tr style=\"text-align: right;\">\n",
              "      <th></th>\n",
              "      <th>id</th>\n",
              "      <th>gender</th>\n",
              "      <th>age</th>\n",
              "      <th>hypertension</th>\n",
              "      <th>heart_disease</th>\n",
              "      <th>ever_married</th>\n",
              "      <th>work_type</th>\n",
              "      <th>Residence_type</th>\n",
              "      <th>avg_glucose_level</th>\n",
              "      <th>bmi</th>\n",
              "      <th>smoking_status</th>\n",
              "      <th>stroke</th>\n",
              "    </tr>\n",
              "  </thead>\n",
              "  <tbody>\n",
              "    <tr>\n",
              "      <th>0</th>\n",
              "      <td>9046</td>\n",
              "      <td>Male</td>\n",
              "      <td>67.0</td>\n",
              "      <td>0</td>\n",
              "      <td>1</td>\n",
              "      <td>Yes</td>\n",
              "      <td>Private</td>\n",
              "      <td>Urban</td>\n",
              "      <td>228.69</td>\n",
              "      <td>36.6</td>\n",
              "      <td>formerly smoked</td>\n",
              "      <td>1</td>\n",
              "    </tr>\n",
              "    <tr>\n",
              "      <th>1</th>\n",
              "      <td>51676</td>\n",
              "      <td>Female</td>\n",
              "      <td>61.0</td>\n",
              "      <td>0</td>\n",
              "      <td>0</td>\n",
              "      <td>Yes</td>\n",
              "      <td>Self-employed</td>\n",
              "      <td>Rural</td>\n",
              "      <td>202.21</td>\n",
              "      <td>NaN</td>\n",
              "      <td>never smoked</td>\n",
              "      <td>1</td>\n",
              "    </tr>\n",
              "    <tr>\n",
              "      <th>2</th>\n",
              "      <td>31112</td>\n",
              "      <td>Male</td>\n",
              "      <td>80.0</td>\n",
              "      <td>0</td>\n",
              "      <td>1</td>\n",
              "      <td>Yes</td>\n",
              "      <td>Private</td>\n",
              "      <td>Rural</td>\n",
              "      <td>105.92</td>\n",
              "      <td>32.5</td>\n",
              "      <td>never smoked</td>\n",
              "      <td>1</td>\n",
              "    </tr>\n",
              "    <tr>\n",
              "      <th>3</th>\n",
              "      <td>60182</td>\n",
              "      <td>Female</td>\n",
              "      <td>49.0</td>\n",
              "      <td>0</td>\n",
              "      <td>0</td>\n",
              "      <td>Yes</td>\n",
              "      <td>Private</td>\n",
              "      <td>Urban</td>\n",
              "      <td>171.23</td>\n",
              "      <td>34.4</td>\n",
              "      <td>smokes</td>\n",
              "      <td>1</td>\n",
              "    </tr>\n",
              "    <tr>\n",
              "      <th>4</th>\n",
              "      <td>1665</td>\n",
              "      <td>Female</td>\n",
              "      <td>79.0</td>\n",
              "      <td>1</td>\n",
              "      <td>0</td>\n",
              "      <td>Yes</td>\n",
              "      <td>Self-employed</td>\n",
              "      <td>Rural</td>\n",
              "      <td>174.12</td>\n",
              "      <td>24.0</td>\n",
              "      <td>never smoked</td>\n",
              "      <td>1</td>\n",
              "    </tr>\n",
              "  </tbody>\n",
              "</table>\n",
              "</div>\n",
              "      <button class=\"colab-df-convert\" onclick=\"convertToInteractive('df-d819226a-9494-442c-b6ea-279f080ab713')\"\n",
              "              title=\"Convert this dataframe to an interactive table.\"\n",
              "              style=\"display:none;\">\n",
              "        \n",
              "  <svg xmlns=\"http://www.w3.org/2000/svg\" height=\"24px\"viewBox=\"0 0 24 24\"\n",
              "       width=\"24px\">\n",
              "    <path d=\"M0 0h24v24H0V0z\" fill=\"none\"/>\n",
              "    <path d=\"M18.56 5.44l.94 2.06.94-2.06 2.06-.94-2.06-.94-.94-2.06-.94 2.06-2.06.94zm-11 1L8.5 8.5l.94-2.06 2.06-.94-2.06-.94L8.5 2.5l-.94 2.06-2.06.94zm10 10l.94 2.06.94-2.06 2.06-.94-2.06-.94-.94-2.06-.94 2.06-2.06.94z\"/><path d=\"M17.41 7.96l-1.37-1.37c-.4-.4-.92-.59-1.43-.59-.52 0-1.04.2-1.43.59L10.3 9.45l-7.72 7.72c-.78.78-.78 2.05 0 2.83L4 21.41c.39.39.9.59 1.41.59.51 0 1.02-.2 1.41-.59l7.78-7.78 2.81-2.81c.8-.78.8-2.07 0-2.86zM5.41 20L4 18.59l7.72-7.72 1.47 1.35L5.41 20z\"/>\n",
              "  </svg>\n",
              "      </button>\n",
              "      \n",
              "  <style>\n",
              "    .colab-df-container {\n",
              "      display:flex;\n",
              "      flex-wrap:wrap;\n",
              "      gap: 12px;\n",
              "    }\n",
              "\n",
              "    .colab-df-convert {\n",
              "      background-color: #E8F0FE;\n",
              "      border: none;\n",
              "      border-radius: 50%;\n",
              "      cursor: pointer;\n",
              "      display: none;\n",
              "      fill: #1967D2;\n",
              "      height: 32px;\n",
              "      padding: 0 0 0 0;\n",
              "      width: 32px;\n",
              "    }\n",
              "\n",
              "    .colab-df-convert:hover {\n",
              "      background-color: #E2EBFA;\n",
              "      box-shadow: 0px 1px 2px rgba(60, 64, 67, 0.3), 0px 1px 3px 1px rgba(60, 64, 67, 0.15);\n",
              "      fill: #174EA6;\n",
              "    }\n",
              "\n",
              "    [theme=dark] .colab-df-convert {\n",
              "      background-color: #3B4455;\n",
              "      fill: #D2E3FC;\n",
              "    }\n",
              "\n",
              "    [theme=dark] .colab-df-convert:hover {\n",
              "      background-color: #434B5C;\n",
              "      box-shadow: 0px 1px 3px 1px rgba(0, 0, 0, 0.15);\n",
              "      filter: drop-shadow(0px 1px 2px rgba(0, 0, 0, 0.3));\n",
              "      fill: #FFFFFF;\n",
              "    }\n",
              "  </style>\n",
              "\n",
              "      <script>\n",
              "        const buttonEl =\n",
              "          document.querySelector('#df-d819226a-9494-442c-b6ea-279f080ab713 button.colab-df-convert');\n",
              "        buttonEl.style.display =\n",
              "          google.colab.kernel.accessAllowed ? 'block' : 'none';\n",
              "\n",
              "        async function convertToInteractive(key) {\n",
              "          const element = document.querySelector('#df-d819226a-9494-442c-b6ea-279f080ab713');\n",
              "          const dataTable =\n",
              "            await google.colab.kernel.invokeFunction('convertToInteractive',\n",
              "                                                     [key], {});\n",
              "          if (!dataTable) return;\n",
              "\n",
              "          const docLinkHtml = 'Like what you see? Visit the ' +\n",
              "            '<a target=\"_blank\" href=https://colab.research.google.com/notebooks/data_table.ipynb>data table notebook</a>'\n",
              "            + ' to learn more about interactive tables.';\n",
              "          element.innerHTML = '';\n",
              "          dataTable['output_type'] = 'display_data';\n",
              "          await google.colab.output.renderOutput(dataTable, element);\n",
              "          const docLink = document.createElement('div');\n",
              "          docLink.innerHTML = docLinkHtml;\n",
              "          element.appendChild(docLink);\n",
              "        }\n",
              "      </script>\n",
              "    </div>\n",
              "  </div>\n",
              "  "
            ]
          },
          "metadata": {},
          "execution_count": 4
        }
      ]
    },
    {
      "cell_type": "markdown",
      "source": [
        "# Preparing and Cleaning the Data"
      ],
      "metadata": {
        "id": "iiQJRgJKztwx"
      }
    },
    {
      "cell_type": "code",
      "source": [
        "df.shape # This set of data contains 5110 rows and 12 columns."
      ],
      "metadata": {
        "colab": {
          "base_uri": "https://localhost:8080/"
        },
        "id": "3u27ir0Gz04w",
        "outputId": "b02c8f6c-7ec9-4021-c374-1322b82def7c"
      },
      "execution_count": 5,
      "outputs": [
        {
          "output_type": "execute_result",
          "data": {
            "text/plain": [
              "(5110, 12)"
            ]
          },
          "metadata": {},
          "execution_count": 5
        }
      ]
    },
    {
      "cell_type": "code",
      "source": [
        "df.duplicated().sum()"
      ],
      "metadata": {
        "colab": {
          "base_uri": "https://localhost:8080/"
        },
        "id": "4dzTZDmwz2Qw",
        "outputId": "4e62b4a8-a725-488b-c86b-858b1cc469cf"
      },
      "execution_count": 6,
      "outputs": [
        {
          "output_type": "execute_result",
          "data": {
            "text/plain": [
              "0"
            ]
          },
          "metadata": {},
          "execution_count": 6
        }
      ]
    },
    {
      "cell_type": "code",
      "source": [
        "df.drop(\"id\", axis=1, inplace=True) # This column is not interesting for our analysis so I am removing it."
      ],
      "metadata": {
        "id": "PYyq7pCEz4J2"
      },
      "execution_count": 7,
      "outputs": []
    },
    {
      "cell_type": "code",
      "source": [
        "df.isna().sum()   # The 'bmi' column contains missing data."
      ],
      "metadata": {
        "colab": {
          "base_uri": "https://localhost:8080/"
        },
        "id": "2nU9i3MFz6NY",
        "outputId": "16301f08-ca9c-4f34-f53c-1e6cce673ed6"
      },
      "execution_count": 8,
      "outputs": [
        {
          "output_type": "execute_result",
          "data": {
            "text/plain": [
              "gender                 0\n",
              "age                    0\n",
              "hypertension           0\n",
              "heart_disease          0\n",
              "ever_married           0\n",
              "work_type              0\n",
              "Residence_type         0\n",
              "avg_glucose_level      0\n",
              "bmi                  201\n",
              "smoking_status         0\n",
              "stroke                 0\n",
              "dtype: int64"
            ]
          },
          "metadata": {},
          "execution_count": 8
        }
      ]
    },
    {
      "cell_type": "code",
      "source": [
        "df.dropna(subset=['bmi'], inplace=True) # I remove the rows with missing values as it is only 3% of our data.\n",
        "df.isna().sum()"
      ],
      "metadata": {
        "colab": {
          "base_uri": "https://localhost:8080/"
        },
        "id": "WifZAfDVz7tN",
        "outputId": "ff9334c4-fc39-4468-a549-9957c68dce73"
      },
      "execution_count": 9,
      "outputs": [
        {
          "output_type": "execute_result",
          "data": {
            "text/plain": [
              "gender               0\n",
              "age                  0\n",
              "hypertension         0\n",
              "heart_disease        0\n",
              "ever_married         0\n",
              "work_type            0\n",
              "Residence_type       0\n",
              "avg_glucose_level    0\n",
              "bmi                  0\n",
              "smoking_status       0\n",
              "stroke               0\n",
              "dtype: int64"
            ]
          },
          "metadata": {},
          "execution_count": 9
        }
      ]
    },
    {
      "cell_type": "code",
      "source": [
        "df.shape  # The shape of our data after cleaning is 4909 rows and 11 columns."
      ],
      "metadata": {
        "colab": {
          "base_uri": "https://localhost:8080/"
        },
        "id": "W8rJNO54z9RM",
        "outputId": "fa4b30df-3f3a-442c-b67f-386ef556d470"
      },
      "execution_count": 10,
      "outputs": [
        {
          "output_type": "execute_result",
          "data": {
            "text/plain": [
              "(4909, 11)"
            ]
          },
          "metadata": {},
          "execution_count": 10
        }
      ]
    },
    {
      "cell_type": "code",
      "source": [
        "# Let's check for inconsistencies in our data\n",
        "\n",
        "print('Columns Types:')\n",
        "print(df.dtypes)\n",
        "print('\\n')\n",
        "print('Value Counts:')\n",
        "print(df.value_counts())\n",
        "\n",
        "# There are no inconsistencies in our data"
      ],
      "metadata": {
        "colab": {
          "base_uri": "https://localhost:8080/"
        },
        "id": "DX71owE5z--U",
        "outputId": "bde39acb-b4d0-416c-ecab-79a6a88b32b1"
      },
      "execution_count": 11,
      "outputs": [
        {
          "output_type": "stream",
          "name": "stdout",
          "text": [
            "Columns Types:\n",
            "gender                object\n",
            "age                  float64\n",
            "hypertension           int64\n",
            "heart_disease          int64\n",
            "ever_married          object\n",
            "work_type             object\n",
            "Residence_type        object\n",
            "avg_glucose_level    float64\n",
            "bmi                  float64\n",
            "smoking_status        object\n",
            "stroke                 int64\n",
            "dtype: object\n",
            "\n",
            "\n",
            "Value Counts:\n",
            "gender  age    hypertension  heart_disease  ever_married  work_type      Residence_type  avg_glucose_level  bmi   smoking_status   stroke\n",
            "Female  0.08   0             0              No            children       Urban           139.67             14.1  Unknown          0         1\n",
            "Male    15.00  0             0              No            children       Rural           62.57              32.3  never smoked     0         1\n",
            "                                                                         Urban           113.28             23.7  never smoked     0         1\n",
            "                                                                                         95.86              18.1  Unknown          0         1\n",
            "                                                                         Rural           205.50             24.2  never smoked     0         1\n",
            "                                                                                                                                            ..\n",
            "Female  48.00  1             0              Yes           Govt_job       Rural           221.08             57.2  never smoked     0         1\n",
            "               0             1              No            Private        Rural           101.89             25.1  smokes           0         1\n",
            "                             0              Yes           Self-employed  Urban           212.19             46.9  never smoked     0         1\n",
            "                                                                                         108.51             33.3  Unknown          0         1\n",
            "Other   26.00  0             0              No            Private        Rural           143.33             22.4  formerly smoked  0         1\n",
            "Length: 4909, dtype: int64\n"
          ]
        }
      ]
    },
    {
      "cell_type": "code",
      "source": [
        "# Identifying target vector and features\n",
        "\n",
        "y = df['stroke']  # Target vector \n",
        "X = df.drop(columns='stroke')   # Features matrix"
      ],
      "metadata": {
        "id": "FKlUe4NU0BMQ"
      },
      "execution_count": 12,
      "outputs": []
    },
    {
      "cell_type": "markdown",
      "source": [
        "# Exploratory Visualizations"
      ],
      "metadata": {
        "id": "mKpp9eyG0Fn2"
      }
    },
    {
      "cell_type": "code",
      "source": [
        "plt.figure(figsize=(8,8));\n",
        "sns.heatmap(corr, cmap = 'RdPu', annot = True, linewidths=.5);"
      ],
      "metadata": {
        "colab": {
          "base_uri": "https://localhost:8080/",
          "height": 568
        },
        "id": "EN1IrYeu0F_A",
        "outputId": "708631e6-e8f0-4af3-ad49-df210385ce50"
      },
      "execution_count": 13,
      "outputs": [
        {
          "output_type": "display_data",
          "data": {
            "text/plain": [
              "<Figure size 576x576 with 2 Axes>"
            ],
            "image/png": "[encoded data removed]"
          },
          "metadata": {
            "needs_background": "light"
          }
        }
      ]
    },
    {
      "cell_type": "code",
      "source": [
        "# There are no strong or moderate correlations between the features and target or between features together."
      ],
      "metadata": {
        "id": "mgDhs4ih0I4J"
      },
      "execution_count": null,
      "outputs": []
    },
    {
      "cell_type": "code",
      "source": [
        "plt.style.use('seaborn');\n",
        "df.boxplot(column = 'age', by = 'stroke', color='magenta', medianprops=dict(color=\"blue\", alpha=0.9));\n",
        "plt.ylabel('age', fontsize = 12);\n",
        "plt.xlabel('stroke', fontsize = 12);\n",
        "plt.title('No Stroke or Stroke by Age');\n",
        "plt.suptitle('');\n",
        "plt.grid(axis='y', c='w', alpha=0.7, linestyle='-');\n",
        "plt.xticks([0, 1, 2], ['', 'no stroke', 'stroke']);"
      ],
      "metadata": {
        "colab": {
          "base_uri": "https://localhost:8080/",
          "height": 432
        },
        "id": "WxEKibIv0KtF",
        "outputId": "4dec0b8d-177b-4ca1-dc7a-ef892448fcd0"
      },
      "execution_count": 14,
      "outputs": [
        {
          "output_type": "stream",
          "name": "stderr",
          "text": [
            "/usr/local/lib/python3.7/dist-packages/matplotlib/cbook/__init__.py:1376: VisibleDeprecationWarning: Creating an ndarray from ragged nested sequences (which is a list-or-tuple of lists-or-tuples-or ndarrays with different lengths or shapes) is deprecated. If you meant to do this, you must specify 'dtype=object' when creating the ndarray.\n",
            "  X = np.atleast_1d(X.T if isinstance(X, np.ndarray) else np.asarray(X))\n"
          ]
        },
        {
          "output_type": "display_data",
          "data": {
            "text/plain": [
              "<Figure size 576x396 with 1 Axes>"
            ],
            "image/png": "[encoded data removed]"
          },
          "metadata": {}
        }
      ]
    },
    {
      "cell_type": "code",
      "source": [
        "plt.style.use('seaborn');\n",
        "df_stroke = df[df['stroke']==1]\n",
        "gender_stroke = df_stroke['gender'].value_counts()\n",
        "gender_stroke.plot(kind='bar', color=['pink', 'orange']);\n",
        "plt.title('Stroke by Gender')\n",
        "plt.ylabel('Count')\n",
        "plt.show()"
      ],
      "metadata": {
        "colab": {
          "base_uri": "https://localhost:8080/",
          "height": 385
        },
        "id": "JFUSGfGu0Mla",
        "outputId": "3e44dc6c-222c-47c4-e54d-c2b2784690cd"
      },
      "execution_count": 15,
      "outputs": [
        {
          "output_type": "display_data",
          "data": {
            "text/plain": [
              "<Figure size 576x396 with 1 Axes>"
            ],
            "image/png": "[encoded data removed]"
          },
          "metadata": {}
        }
      ]
    },
    {
      "cell_type": "code",
      "source": [
        "print(df['gender'].value_counts())\n",
        "print('\\n')\n",
        "print(df['stroke'].value_counts())"
      ],
      "metadata": {
        "colab": {
          "base_uri": "https://localhost:8080/"
        },
        "id": "jkJ9jjui0Ofy",
        "outputId": "c07380af-d09b-4df4-aa5d-91985d9e86bb"
      },
      "execution_count": 17,
      "outputs": [
        {
          "output_type": "stream",
          "name": "stdout",
          "text": [
            "Female    2897\n",
            "Male      2011\n",
            "Other        1\n",
            "Name: gender, dtype: int64\n",
            "\n",
            "\n",
            "0    4700\n",
            "1     209\n",
            "Name: stroke, dtype: int64\n"
          ]
        }
      ]
    },
    {
      "cell_type": "code",
      "source": [
        "# In this graph we can see that more women have strokes than men but in our dataset we have more women than me. \n",
        "# 60% of our dataset is female.\n",
        "# 57.4% of strokes are female.\n",
        "# Following those percentages, we can't say that female are more susceptible to strokes than males."
      ],
      "metadata": {
        "id": "-XwkpoFF0X41"
      },
      "execution_count": null,
      "outputs": []
    },
    {
      "cell_type": "markdown",
      "source": [
        "# Preprocessing"
      ],
      "metadata": {
        "id": "yi8iOtaq0flD"
      }
    },
    {
      "cell_type": "code",
      "source": [
        "# gender = nominal feature\n",
        "# age = numerical feature\n",
        "# hypertension = nominal feature\n",
        "# heart_disease = nominal feature\n",
        "# ever_married = nominal feature\n",
        "# work_type = nominal feature\n",
        "# Residence_type = nominal feature\n",
        "# avg_glucose_level = numerical feature\n",
        "# bmi = numerical feature\n",
        "# smoking_status = nominal feature"
      ],
      "metadata": {
        "id": "GQ_FLblN0iuV"
      },
      "execution_count": null,
      "outputs": []
    },
    {
      "cell_type": "code",
      "source": [
        "# Identifying target vector and features\n",
        "y = df['stroke']  # Target vector \n",
        "X = df.drop(columns='stroke')   # Features matrix\n",
        "\n",
        "# Train Test Split\n",
        "X_train, X_test, y_train, y_test = train_test_split(X, y, random_state=42)"
      ],
      "metadata": {
        "id": "qpzj6d5j2QCT"
      },
      "execution_count": 22,
      "outputs": []
    },
    {
      "cell_type": "code",
      "source": [
        "# Column selectors\n",
        "cat_selector = make_column_selector(dtype_include='object')\n",
        "num_selector = make_column_selector(dtype_include='number')"
      ],
      "metadata": {
        "id": "jS4ARnq32kB9"
      },
      "execution_count": 25,
      "outputs": []
    },
    {
      "cell_type": "code",
      "source": [
        "# Scale the numerical features (as most models need scaling)\n",
        "# OneHotEncode the nominal feature \n",
        "\n",
        "scaler = StandardScaler()\n",
        "ohe = OneHotEncoder(handle_unknown='ignore', sparse=False)"
      ],
      "metadata": {
        "id": "VbVkbCt82ui3"
      },
      "execution_count": 28,
      "outputs": []
    },
    {
      "cell_type": "code",
      "source": [
        "# ColumnTransformer\n",
        "num = (scaler, num_selector)\n",
        "cat = (ohe, cat_selector)\n",
        "preprocessor = make_column_transformer(num, cat)\n",
        "preprocessor"
      ],
      "metadata": {
        "colab": {
          "base_uri": "https://localhost:8080/",
          "height": 118
        },
        "id": "CIX-Q7ah3T96",
        "outputId": "cc8fe851-f2a9-4d8b-de4c-3f43d52b1779"
      },
      "execution_count": 31,
      "outputs": [
        {
          "output_type": "execute_result",
          "data": {
            "text/plain": [
              "ColumnTransformer(transformers=[('standardscaler', StandardScaler(),\n",
              "                                 <sklearn.compose._column_transformer.make_column_selector object at 0x7f334a12d650>),\n",
              "                                ('onehotencoder',\n",
              "                                 OneHotEncoder(handle_unknown='ignore',\n",
              "                                               sparse=False),\n",
              "                                 <sklearn.compose._column_transformer.make_column_selector object at 0x7f334a12d690>)])"
            ],
            "text/html": [
              "<style>#sk-ac1cd89f-7bd7-4a2f-8b99-0894466e6534 {color: black;background-color: white;}#sk-ac1cd89f-7bd7-4a2f-8b99-0894466e6534 pre{padding: 0;}#sk-ac1cd89f-7bd7-4a2f-8b99-0894466e6534 div.sk-toggleable {background-color: white;}#sk-ac1cd89f-7bd7-4a2f-8b99-0894466e6534 label.sk-toggleable__label {cursor: pointer;display: block;width: 100%;margin-bottom: 0;padding: 0.3em;box-sizing: border-box;text-align: center;}#sk-ac1cd89f-7bd7-4a2f-8b99-0894466e6534 label.sk-toggleable__label-arrow:before {content: \"▸\";float: left;margin-right: 0.25em;color: #696969;}#sk-ac1cd89f-7bd7-4a2f-8b99-0894466e6534 label.sk-toggleable__label-arrow:hover:before {color: black;}#sk-ac1cd89f-7bd7-4a2f-8b99-0894466e6534 div.sk-estimator:hover label.sk-toggleable__label-arrow:before {color: black;}#sk-ac1cd89f-7bd7-4a2f-8b99-0894466e6534 div.sk-toggleable__content {max-height: 0;max-width: 0;overflow: hidden;text-align: left;background-color: #f0f8ff;}#sk-ac1cd89f-7bd7-4a2f-8b99-0894466e6534 div.sk-toggleable__content pre {margin: 0.2em;color: black;border-radius: 0.25em;background-color: #f0f8ff;}#sk-ac1cd89f-7bd7-4a2f-8b99-0894466e6534 input.sk-toggleable__control:checked~div.sk-toggleable__content {max-height: 200px;max-width: 100%;overflow: auto;}#sk-ac1cd89f-7bd7-4a2f-8b99-0894466e6534 input.sk-toggleable__control:checked~label.sk-toggleable__label-arrow:before {content: \"▾\";}#sk-ac1cd89f-7bd7-4a2f-8b99-0894466e6534 div.sk-estimator input.sk-toggleable__control:checked~label.sk-toggleable__label {background-color: #d4ebff;}#sk-ac1cd89f-7bd7-4a2f-8b99-0894466e6534 div.sk-label input.sk-toggleable__control:checked~label.sk-toggleable__label {background-color: #d4ebff;}#sk-ac1cd89f-7bd7-4a2f-8b99-0894466e6534 input.sk-hidden--visually {border: 0;clip: rect(1px 1px 1px 1px);clip: rect(1px, 1px, 1px, 1px);height: 1px;margin: -1px;overflow: hidden;padding: 0;position: absolute;width: 1px;}#sk-ac1cd89f-7bd7-4a2f-8b99-0894466e6534 div.sk-estimator {font-family: monospace;background-color: #f0f8ff;border: 1px dotted black;border-radius: 0.25em;box-sizing: border-box;margin-bottom: 0.5em;}#sk-ac1cd89f-7bd7-4a2f-8b99-0894466e6534 div.sk-estimator:hover {background-color: #d4ebff;}#sk-ac1cd89f-7bd7-4a2f-8b99-0894466e6534 div.sk-parallel-item::after {content: \"\";width: 100%;border-bottom: 1px solid gray;flex-grow: 1;}#sk-ac1cd89f-7bd7-4a2f-8b99-0894466e6534 div.sk-label:hover label.sk-toggleable__label {background-color: #d4ebff;}#sk-ac1cd89f-7bd7-4a2f-8b99-0894466e6534 div.sk-serial::before {content: \"\";position: absolute;border-left: 1px solid gray;box-sizing: border-box;top: 2em;bottom: 0;left: 50%;}#sk-ac1cd89f-7bd7-4a2f-8b99-0894466e6534 div.sk-serial {display: flex;flex-direction: column;align-items: center;background-color: white;padding-right: 0.2em;padding-left: 0.2em;}#sk-ac1cd89f-7bd7-4a2f-8b99-0894466e6534 div.sk-item {z-index: 1;}#sk-ac1cd89f-7bd7-4a2f-8b99-0894466e6534 div.sk-parallel {display: flex;align-items: stretch;justify-content: center;background-color: white;}#sk-ac1cd89f-7bd7-4a2f-8b99-0894466e6534 div.sk-parallel::before {content: \"\";position: absolute;border-left: 1px solid gray;box-sizing: border-box;top: 2em;bottom: 0;left: 50%;}#sk-ac1cd89f-7bd7-4a2f-8b99-0894466e6534 div.sk-parallel-item {display: flex;flex-direction: column;position: relative;background-color: white;}#sk-ac1cd89f-7bd7-4a2f-8b99-0894466e6534 div.sk-parallel-item:first-child::after {align-self: flex-end;width: 50%;}#sk-ac1cd89f-7bd7-4a2f-8b99-0894466e6534 div.sk-parallel-item:last-child::after {align-self: flex-start;width: 50%;}#sk-ac1cd89f-7bd7-4a2f-8b99-0894466e6534 div.sk-parallel-item:only-child::after {width: 0;}#sk-ac1cd89f-7bd7-4a2f-8b99-0894466e6534 div.sk-dashed-wrapped {border: 1px dashed gray;margin: 0 0.4em 0.5em 0.4em;box-sizing: border-box;padding-bottom: 0.4em;background-color: white;position: relative;}#sk-ac1cd89f-7bd7-4a2f-8b99-0894466e6534 div.sk-label label {font-family: monospace;font-weight: bold;background-color: white;display: inline-block;line-height: 1.2em;}#sk-ac1cd89f-7bd7-4a2f-8b99-0894466e6534 div.sk-label-container {position: relative;z-index: 2;text-align: center;}#sk-ac1cd89f-7bd7-4a2f-8b99-0894466e6534 div.sk-container {/* jupyter's `normalize.less` sets `[hidden] { display: none; }` but bootstrap.min.css set `[hidden] { display: none !important; }` so we also need the `!important` here to be able to override the default hidden behavior on the sphinx rendered scikit-learn.org. See: https://github.com/scikit-learn/scikit-learn/issues/21755 */display: inline-block !important;position: relative;}#sk-ac1cd89f-7bd7-4a2f-8b99-0894466e6534 div.sk-text-repr-fallback {display: none;}</style><div id=\"sk-ac1cd89f-7bd7-4a2f-8b99-0894466e6534\" class=\"sk-top-container\"><div class=\"sk-text-repr-fallback\"><pre>ColumnTransformer(transformers=[(&#x27;standardscaler&#x27;, StandardScaler(),\n",
              "                                 &lt;sklearn.compose._column_transformer.make_column_selector object at 0x7f334a12d650&gt;),\n",
              "                                (&#x27;onehotencoder&#x27;,\n",
              "                                 OneHotEncoder(handle_unknown=&#x27;ignore&#x27;,\n",
              "                                               sparse=False),\n",
              "                                 &lt;sklearn.compose._column_transformer.make_column_selector object at 0x7f334a12d690&gt;)])</pre><b>Please rerun this cell to show the HTML repr or trust the notebook.</b></div><div class=\"sk-container\" hidden><div class=\"sk-item sk-dashed-wrapped\"><div class=\"sk-label-container\"><div class=\"sk-label sk-toggleable\"><input class=\"sk-toggleable__control sk-hidden--visually\" id=\"eb989039-6c4c-48ae-87b1-15c9f5c1015f\" type=\"checkbox\" ><label for=\"eb989039-6c4c-48ae-87b1-15c9f5c1015f\" class=\"sk-toggleable__label sk-toggleable__label-arrow\">ColumnTransformer</label><div class=\"sk-toggleable__content\"><pre>ColumnTransformer(transformers=[(&#x27;standardscaler&#x27;, StandardScaler(),\n",
              "                                 &lt;sklearn.compose._column_transformer.make_column_selector object at 0x7f334a12d650&gt;),\n",
              "                                (&#x27;onehotencoder&#x27;,\n",
              "                                 OneHotEncoder(handle_unknown=&#x27;ignore&#x27;,\n",
              "                                               sparse=False),\n",
              "                                 &lt;sklearn.compose._column_transformer.make_column_selector object at 0x7f334a12d690&gt;)])</pre></div></div></div><div class=\"sk-parallel\"><div class=\"sk-parallel-item\"><div class=\"sk-item\"><div class=\"sk-label-container\"><div class=\"sk-label sk-toggleable\"><input class=\"sk-toggleable__control sk-hidden--visually\" id=\"9f982159-32a5-4012-8805-4a606be00c5d\" type=\"checkbox\" ><label for=\"9f982159-32a5-4012-8805-4a606be00c5d\" class=\"sk-toggleable__label sk-toggleable__label-arrow\">standardscaler</label><div class=\"sk-toggleable__content\"><pre>&lt;sklearn.compose._column_transformer.make_column_selector object at 0x7f334a12d650&gt;</pre></div></div></div><div class=\"sk-serial\"><div class=\"sk-item\"><div class=\"sk-estimator sk-toggleable\"><input class=\"sk-toggleable__control sk-hidden--visually\" id=\"c2471a8a-95f1-4ba6-9530-1dfdb5c96769\" type=\"checkbox\" ><label for=\"c2471a8a-95f1-4ba6-9530-1dfdb5c96769\" class=\"sk-toggleable__label sk-toggleable__label-arrow\">StandardScaler</label><div class=\"sk-toggleable__content\"><pre>StandardScaler()</pre></div></div></div></div></div></div><div class=\"sk-parallel-item\"><div class=\"sk-item\"><div class=\"sk-label-container\"><div class=\"sk-label sk-toggleable\"><input class=\"sk-toggleable__control sk-hidden--visually\" id=\"4b197709-b297-4bf7-aa9d-09c6047a88b3\" type=\"checkbox\" ><label for=\"4b197709-b297-4bf7-aa9d-09c6047a88b3\" class=\"sk-toggleable__label sk-toggleable__label-arrow\">onehotencoder</label><div class=\"sk-toggleable__content\"><pre>&lt;sklearn.compose._column_transformer.make_column_selector object at 0x7f334a12d690&gt;</pre></div></div></div><div class=\"sk-serial\"><div class=\"sk-item\"><div class=\"sk-estimator sk-toggleable\"><input class=\"sk-toggleable__control sk-hidden--visually\" id=\"36c275b0-4c47-449d-ab29-1daa3d8fa4d1\" type=\"checkbox\" ><label for=\"36c275b0-4c47-449d-ab29-1daa3d8fa4d1\" class=\"sk-toggleable__label sk-toggleable__label-arrow\">OneHotEncoder</label><div class=\"sk-toggleable__content\"><pre>OneHotEncoder(handle_unknown=&#x27;ignore&#x27;, sparse=False)</pre></div></div></div></div></div></div></div></div></div></div>"
            ]
          },
          "metadata": {},
          "execution_count": 31
        }
      ]
    },
    {
      "cell_type": "code",
      "source": [
        "# Transform data\n",
        "preprocessor.fit(X_train)\n",
        "X_train_processed = preprocessor.transform(X_train)\n",
        "X_test_processed = preprocessor.transform(X_test)"
      ],
      "metadata": {
        "id": "54Nu0YtM3pNg"
      },
      "execution_count": 32,
      "outputs": []
    },
    {
      "cell_type": "code",
      "source": [
        "# Insepcting results (source: \"https://login.codingdojo.com/m/213/7153/70749\")\n",
        "print(np.isnan(X_train_processed).sum().sum(), 'missing values in training data')\n",
        "print(np.isnan(X_test_processed).sum().sum(), 'missing values in testing data')\n",
        "print('\\n')\n",
        "print('All data in X_train_processed are', X_train_processed.dtype)\n",
        "print('All data in X_test_processed are', X_test_processed.dtype)\n",
        "print('\\n')\n",
        "print('shape of data is', X_train_processed.shape)\n",
        "print('\\n')\n",
        "X_train_processed"
      ],
      "metadata": {
        "colab": {
          "base_uri": "https://localhost:8080/"
        },
        "id": "fV78Gzx33tDl",
        "outputId": "61bfdd6b-12e7-4ffa-9584-017e5a231424"
      },
      "execution_count": 33,
      "outputs": [
        {
          "output_type": "stream",
          "name": "stdout",
          "text": [
            "0 missing values in training data\n",
            "0 missing values in testing data\n",
            "\n",
            "\n",
            "All data in X_train_processed are float64\n",
            "All data in X_test_processed are float64\n",
            "\n",
            "\n",
            "shape of data is (3681, 21)\n",
            "\n",
            "\n"
          ]
        },
        {
          "output_type": "execute_result",
          "data": {
            "text/plain": [
              "array([[-0.52064637, -0.31745474, -0.22475253, ...,  1.        ,\n",
              "         0.        ,  0.        ],\n",
              "       [-1.81017863, -0.31745474,  4.44933817, ...,  0.        ,\n",
              "         0.        ,  0.        ],\n",
              "       [ 0.76888589, -0.31745474, -0.22475253, ...,  0.        ,\n",
              "         0.        ,  1.        ],\n",
              "       ...,\n",
              "       [ 0.45761948, -0.31745474, -0.22475253, ...,  1.        ,\n",
              "         0.        ,  0.        ],\n",
              "       [-1.40997896, -0.31745474, -0.22475253, ...,  0.        ,\n",
              "         0.        ,  0.        ],\n",
              "       [ 0.90228578, -0.31745474, -0.22475253, ...,  1.        ,\n",
              "         0.        ,  0.        ]])"
            ]
          },
          "metadata": {},
          "execution_count": 33
        }
      ]
    },
    {
      "cell_type": "markdown",
      "source": [
        "# Modeling"
      ],
      "metadata": {
        "id": "NJPzcKUp4Nsb"
      }
    },
    {
      "cell_type": "markdown",
      "source": [
        "Classification Tree"
      ],
      "metadata": {
        "id": "p-W8jOzc4UMy"
      }
    },
    {
      "cell_type": "code",
      "source": [
        "df['stroke'].value_counts(normalize = True) # (Our data is very inbalanced)"
      ],
      "metadata": {
        "colab": {
          "base_uri": "https://localhost:8080/"
        },
        "id": "-Rr3s5fN4ZVZ",
        "outputId": "439ae829-1f4a-44c0-f81f-7ad917594704"
      },
      "execution_count": 34,
      "outputs": [
        {
          "output_type": "execute_result",
          "data": {
            "text/plain": [
              "0    0.957425\n",
              "1    0.042575\n",
              "Name: stroke, dtype: float64"
            ]
          },
          "metadata": {},
          "execution_count": 34
        }
      ]
    },
    {
      "cell_type": "code",
      "source": [
        "# Make an instance of the Model (using default parameters)\n",
        "dec_tree = DecisionTreeClassifier(random_state = 42)\n",
        "\n",
        "# Fit the model on the training data\n",
        "dec_tree.fit(X_train_processed, y_train)\n",
        "\n",
        "# Predict the target values for the test set\n",
        "dec_tree.predict(X_test_processed)\n",
        "\n",
        "# Evaluate the Model (using the r^2 metric)\n",
        "train_score = dec_tree.score(X_train_processed, y_train)\n",
        "test_score = dec_tree.score(X_test_processed, y_test)\n",
        "print(train_score)\n",
        "print(test_score)"
      ],
      "metadata": {
        "colab": {
          "base_uri": "https://localhost:8080/"
        },
        "id": "ZyvQ_S7L4eie",
        "outputId": "44e71cdb-3ccf-414e-ee8b-4513447dd0cd"
      },
      "execution_count": 36,
      "outputs": [
        {
          "output_type": "stream",
          "name": "stdout",
          "text": [
            "1.0\n",
            "0.9039087947882736\n"
          ]
        }
      ]
    },
    {
      "cell_type": "code",
      "source": [
        "# Our data has a score of 100% on the training set and does very well on the testing set but let's see if we can still improve it."
      ],
      "metadata": {
        "id": "G5lQyVtU4nRl"
      },
      "execution_count": null,
      "outputs": []
    },
    {
      "cell_type": "code",
      "source": [
        "# The depth of our default tree \n",
        "dec_tree.get_depth()"
      ],
      "metadata": {
        "colab": {
          "base_uri": "https://localhost:8080/"
        },
        "id": "fPAP5hih4pYu",
        "outputId": "77d2430f-32e2-43db-a2ad-118710700773"
      },
      "execution_count": 37,
      "outputs": [
        {
          "output_type": "execute_result",
          "data": {
            "text/plain": [
              "21"
            ]
          },
          "metadata": {},
          "execution_count": 37
        }
      ]
    },
    {
      "cell_type": "code",
      "source": [
        "# Number of leaf nodes our tree had.\n",
        "dec_tree.get_n_leaves()"
      ],
      "metadata": {
        "colab": {
          "base_uri": "https://localhost:8080/"
        },
        "id": "zULBtyLw4rJw",
        "outputId": "2ce4dfc0-1b16-429b-d9a9-e45fed8b9a63"
      },
      "execution_count": 38,
      "outputs": [
        {
          "output_type": "execute_result",
          "data": {
            "text/plain": [
              "230"
            ]
          },
          "metadata": {},
          "execution_count": 38
        }
      ]
    },
    {
      "cell_type": "code",
      "source": [
        "# GridSearchCV to find the parameters\n",
        "# Source: \"https://login.codingdojo.com/m/213/7198/89532\"\n",
        "\n",
        "model = DecisionTreeClassifier()\n",
        "param_grid = {'max_depth': [5,10,15,20,21],\n",
        "              'min_samples_leaf': [10,20,40,50,100, 150,200,230],\n",
        "              'min_samples_split': [2, 10, 100]}\n",
        "scores = {}\n",
        "for d in param_grid['max_depth']:\n",
        "  for l in param_grid['min_samples_leaf']:\n",
        "    for s in param_grid['min_samples_split']:\n",
        "      model = DecisionTreeClassifier(max_depth=d,\n",
        "                                     min_samples_leaf=l,\n",
        "                                     min_samples_split=s)\n",
        "      model.fit(X_train_processed, y_train)\n",
        "      score = model.score(X_test_processed, y_test)\n",
        "      scores[f'depth {d}, min_samples_leaf {l}, min_samples_split {s} accuracy'] = score.round(6) * 100\n",
        " \n",
        "scores"
      ],
      "metadata": {
        "colab": {
          "base_uri": "https://localhost:8080/"
        },
        "id": "q6L2PJz-4tjq",
        "outputId": "4720f5a3-922f-4e44-850d-f956c20e31d1"
      },
      "execution_count": 50,
      "outputs": [
        {
          "output_type": "execute_result",
          "data": {
            "text/plain": [
              "{'depth 10, min_samples_leaf 10, min_samples_split 10 accuracy': 94.7068,\n",
              " 'depth 10, min_samples_leaf 10, min_samples_split 100 accuracy': 94.8697,\n",
              " 'depth 10, min_samples_leaf 10, min_samples_split 2 accuracy': 94.7068,\n",
              " 'depth 10, min_samples_leaf 100, min_samples_split 10 accuracy': 94.8697,\n",
              " 'depth 10, min_samples_leaf 100, min_samples_split 100 accuracy': 94.8697,\n",
              " 'depth 10, min_samples_leaf 100, min_samples_split 2 accuracy': 94.8697,\n",
              " 'depth 10, min_samples_leaf 150, min_samples_split 10 accuracy': 94.8697,\n",
              " 'depth 10, min_samples_leaf 150, min_samples_split 100 accuracy': 94.8697,\n",
              " 'depth 10, min_samples_leaf 150, min_samples_split 2 accuracy': 94.8697,\n",
              " 'depth 10, min_samples_leaf 20, min_samples_split 10 accuracy': 94.8697,\n",
              " 'depth 10, min_samples_leaf 20, min_samples_split 100 accuracy': 94.8697,\n",
              " 'depth 10, min_samples_leaf 20, min_samples_split 2 accuracy': 94.8697,\n",
              " 'depth 10, min_samples_leaf 200, min_samples_split 10 accuracy': 94.8697,\n",
              " 'depth 10, min_samples_leaf 200, min_samples_split 100 accuracy': 94.8697,\n",
              " 'depth 10, min_samples_leaf 200, min_samples_split 2 accuracy': 94.8697,\n",
              " 'depth 10, min_samples_leaf 230, min_samples_split 10 accuracy': 94.8697,\n",
              " 'depth 10, min_samples_leaf 230, min_samples_split 100 accuracy': 94.8697,\n",
              " 'depth 10, min_samples_leaf 230, min_samples_split 2 accuracy': 94.8697,\n",
              " 'depth 10, min_samples_leaf 40, min_samples_split 10 accuracy': 94.8697,\n",
              " 'depth 10, min_samples_leaf 40, min_samples_split 100 accuracy': 94.8697,\n",
              " 'depth 10, min_samples_leaf 40, min_samples_split 2 accuracy': 94.8697,\n",
              " 'depth 10, min_samples_leaf 50, min_samples_split 10 accuracy': 94.8697,\n",
              " 'depth 10, min_samples_leaf 50, min_samples_split 100 accuracy': 94.8697,\n",
              " 'depth 10, min_samples_leaf 50, min_samples_split 2 accuracy': 94.8697,\n",
              " 'depth 15, min_samples_leaf 10, min_samples_split 10 accuracy': 94.7068,\n",
              " 'depth 15, min_samples_leaf 10, min_samples_split 100 accuracy': 94.8697,\n",
              " 'depth 15, min_samples_leaf 10, min_samples_split 2 accuracy': 94.7068,\n",
              " 'depth 15, min_samples_leaf 100, min_samples_split 10 accuracy': 94.8697,\n",
              " 'depth 15, min_samples_leaf 100, min_samples_split 100 accuracy': 94.8697,\n",
              " 'depth 15, min_samples_leaf 100, min_samples_split 2 accuracy': 94.8697,\n",
              " 'depth 15, min_samples_leaf 150, min_samples_split 10 accuracy': 94.8697,\n",
              " 'depth 15, min_samples_leaf 150, min_samples_split 100 accuracy': 94.8697,\n",
              " 'depth 15, min_samples_leaf 150, min_samples_split 2 accuracy': 94.8697,\n",
              " 'depth 15, min_samples_leaf 20, min_samples_split 10 accuracy': 94.8697,\n",
              " 'depth 15, min_samples_leaf 20, min_samples_split 100 accuracy': 94.8697,\n",
              " 'depth 15, min_samples_leaf 20, min_samples_split 2 accuracy': 94.8697,\n",
              " 'depth 15, min_samples_leaf 200, min_samples_split 10 accuracy': 94.8697,\n",
              " 'depth 15, min_samples_leaf 200, min_samples_split 100 accuracy': 94.8697,\n",
              " 'depth 15, min_samples_leaf 200, min_samples_split 2 accuracy': 94.8697,\n",
              " 'depth 15, min_samples_leaf 230, min_samples_split 10 accuracy': 94.8697,\n",
              " 'depth 15, min_samples_leaf 230, min_samples_split 100 accuracy': 94.8697,\n",
              " 'depth 15, min_samples_leaf 230, min_samples_split 2 accuracy': 94.8697,\n",
              " 'depth 15, min_samples_leaf 40, min_samples_split 10 accuracy': 94.8697,\n",
              " 'depth 15, min_samples_leaf 40, min_samples_split 100 accuracy': 94.8697,\n",
              " 'depth 15, min_samples_leaf 40, min_samples_split 2 accuracy': 94.8697,\n",
              " 'depth 15, min_samples_leaf 50, min_samples_split 10 accuracy': 94.8697,\n",
              " 'depth 15, min_samples_leaf 50, min_samples_split 100 accuracy': 94.8697,\n",
              " 'depth 15, min_samples_leaf 50, min_samples_split 2 accuracy': 94.8697,\n",
              " 'depth 20, min_samples_leaf 10, min_samples_split 10 accuracy': 94.7068,\n",
              " 'depth 20, min_samples_leaf 10, min_samples_split 100 accuracy': 94.8697,\n",
              " 'depth 20, min_samples_leaf 10, min_samples_split 2 accuracy': 94.7068,\n",
              " 'depth 20, min_samples_leaf 100, min_samples_split 10 accuracy': 94.8697,\n",
              " 'depth 20, min_samples_leaf 100, min_samples_split 100 accuracy': 94.8697,\n",
              " 'depth 20, min_samples_leaf 100, min_samples_split 2 accuracy': 94.8697,\n",
              " 'depth 20, min_samples_leaf 150, min_samples_split 10 accuracy': 94.8697,\n",
              " 'depth 20, min_samples_leaf 150, min_samples_split 100 accuracy': 94.8697,\n",
              " 'depth 20, min_samples_leaf 150, min_samples_split 2 accuracy': 94.8697,\n",
              " 'depth 20, min_samples_leaf 20, min_samples_split 10 accuracy': 94.8697,\n",
              " 'depth 20, min_samples_leaf 20, min_samples_split 100 accuracy': 94.8697,\n",
              " 'depth 20, min_samples_leaf 20, min_samples_split 2 accuracy': 94.8697,\n",
              " 'depth 20, min_samples_leaf 200, min_samples_split 10 accuracy': 94.8697,\n",
              " 'depth 20, min_samples_leaf 200, min_samples_split 100 accuracy': 94.8697,\n",
              " 'depth 20, min_samples_leaf 200, min_samples_split 2 accuracy': 94.8697,\n",
              " 'depth 20, min_samples_leaf 230, min_samples_split 10 accuracy': 94.8697,\n",
              " 'depth 20, min_samples_leaf 230, min_samples_split 100 accuracy': 94.8697,\n",
              " 'depth 20, min_samples_leaf 230, min_samples_split 2 accuracy': 94.8697,\n",
              " 'depth 20, min_samples_leaf 40, min_samples_split 10 accuracy': 94.8697,\n",
              " 'depth 20, min_samples_leaf 40, min_samples_split 100 accuracy': 94.8697,\n",
              " 'depth 20, min_samples_leaf 40, min_samples_split 2 accuracy': 94.8697,\n",
              " 'depth 20, min_samples_leaf 50, min_samples_split 10 accuracy': 94.8697,\n",
              " 'depth 20, min_samples_leaf 50, min_samples_split 100 accuracy': 94.8697,\n",
              " 'depth 20, min_samples_leaf 50, min_samples_split 2 accuracy': 94.8697,\n",
              " 'depth 21, min_samples_leaf 10, min_samples_split 10 accuracy': 94.7068,\n",
              " 'depth 21, min_samples_leaf 10, min_samples_split 100 accuracy': 94.8697,\n",
              " 'depth 21, min_samples_leaf 10, min_samples_split 2 accuracy': 94.7068,\n",
              " 'depth 21, min_samples_leaf 100, min_samples_split 10 accuracy': 94.8697,\n",
              " 'depth 21, min_samples_leaf 100, min_samples_split 100 accuracy': 94.8697,\n",
              " 'depth 21, min_samples_leaf 100, min_samples_split 2 accuracy': 94.8697,\n",
              " 'depth 21, min_samples_leaf 150, min_samples_split 10 accuracy': 94.8697,\n",
              " 'depth 21, min_samples_leaf 150, min_samples_split 100 accuracy': 94.8697,\n",
              " 'depth 21, min_samples_leaf 150, min_samples_split 2 accuracy': 94.8697,\n",
              " 'depth 21, min_samples_leaf 20, min_samples_split 10 accuracy': 94.8697,\n",
              " 'depth 21, min_samples_leaf 20, min_samples_split 100 accuracy': 94.8697,\n",
              " 'depth 21, min_samples_leaf 20, min_samples_split 2 accuracy': 94.8697,\n",
              " 'depth 21, min_samples_leaf 200, min_samples_split 10 accuracy': 94.8697,\n",
              " 'depth 21, min_samples_leaf 200, min_samples_split 100 accuracy': 94.8697,\n",
              " 'depth 21, min_samples_leaf 200, min_samples_split 2 accuracy': 94.8697,\n",
              " 'depth 21, min_samples_leaf 230, min_samples_split 10 accuracy': 94.8697,\n",
              " 'depth 21, min_samples_leaf 230, min_samples_split 100 accuracy': 94.8697,\n",
              " 'depth 21, min_samples_leaf 230, min_samples_split 2 accuracy': 94.8697,\n",
              " 'depth 21, min_samples_leaf 40, min_samples_split 10 accuracy': 94.8697,\n",
              " 'depth 21, min_samples_leaf 40, min_samples_split 100 accuracy': 94.8697,\n",
              " 'depth 21, min_samples_leaf 40, min_samples_split 2 accuracy': 94.8697,\n",
              " 'depth 21, min_samples_leaf 50, min_samples_split 10 accuracy': 94.8697,\n",
              " 'depth 21, min_samples_leaf 50, min_samples_split 100 accuracy': 94.8697,\n",
              " 'depth 21, min_samples_leaf 50, min_samples_split 2 accuracy': 94.8697,\n",
              " 'depth 5, min_samples_leaf 10, min_samples_split 10 accuracy': 94.7068,\n",
              " 'depth 5, min_samples_leaf 10, min_samples_split 100 accuracy': 94.8697,\n",
              " 'depth 5, min_samples_leaf 10, min_samples_split 2 accuracy': 94.7068,\n",
              " 'depth 5, min_samples_leaf 100, min_samples_split 10 accuracy': 94.8697,\n",
              " 'depth 5, min_samples_leaf 100, min_samples_split 100 accuracy': 94.8697,\n",
              " 'depth 5, min_samples_leaf 100, min_samples_split 2 accuracy': 94.8697,\n",
              " 'depth 5, min_samples_leaf 150, min_samples_split 10 accuracy': 94.8697,\n",
              " 'depth 5, min_samples_leaf 150, min_samples_split 100 accuracy': 94.8697,\n",
              " 'depth 5, min_samples_leaf 150, min_samples_split 2 accuracy': 94.8697,\n",
              " 'depth 5, min_samples_leaf 20, min_samples_split 10 accuracy': 94.8697,\n",
              " 'depth 5, min_samples_leaf 20, min_samples_split 100 accuracy': 94.8697,\n",
              " 'depth 5, min_samples_leaf 20, min_samples_split 2 accuracy': 94.8697,\n",
              " 'depth 5, min_samples_leaf 200, min_samples_split 10 accuracy': 94.8697,\n",
              " 'depth 5, min_samples_leaf 200, min_samples_split 100 accuracy': 94.8697,\n",
              " 'depth 5, min_samples_leaf 200, min_samples_split 2 accuracy': 94.8697,\n",
              " 'depth 5, min_samples_leaf 230, min_samples_split 10 accuracy': 94.8697,\n",
              " 'depth 5, min_samples_leaf 230, min_samples_split 100 accuracy': 94.8697,\n",
              " 'depth 5, min_samples_leaf 230, min_samples_split 2 accuracy': 94.8697,\n",
              " 'depth 5, min_samples_leaf 40, min_samples_split 10 accuracy': 94.8697,\n",
              " 'depth 5, min_samples_leaf 40, min_samples_split 100 accuracy': 94.8697,\n",
              " 'depth 5, min_samples_leaf 40, min_samples_split 2 accuracy': 94.8697,\n",
              " 'depth 5, min_samples_leaf 50, min_samples_split 10 accuracy': 94.8697,\n",
              " 'depth 5, min_samples_leaf 50, min_samples_split 100 accuracy': 94.8697,\n",
              " 'depth 5, min_samples_leaf 50, min_samples_split 2 accuracy': 94.8697}"
            ]
          },
          "metadata": {},
          "execution_count": 50
        }
      ]
    },
    {
      "cell_type": "code",
      "source": [
        "dt_grid_search = GridSearchCV(model, param_grid)\n",
        "\n",
        "# fit the model on the training set\n",
        "dt_grid_search.fit(X_train_processed, y_train)\n",
        "\n",
        "dt_grid_search.best_params_"
      ],
      "metadata": {
        "colab": {
          "base_uri": "https://localhost:8080/"
        },
        "id": "tHdBbQ9P5qJX",
        "outputId": "d01484c2-4f40-4a00-f96d-8079e79695bf"
      },
      "execution_count": 51,
      "outputs": [
        {
          "output_type": "execute_result",
          "data": {
            "text/plain": [
              "{'max_depth': 5, 'min_samples_leaf': 20, 'min_samples_split': 2}"
            ]
          },
          "metadata": {},
          "execution_count": 51
        }
      ]
    },
    {
      "cell_type": "code",
      "source": [
        "best_model = dt_grid_search.best_estimator_\n",
        "\n",
        "# fit the model on the training set\n",
        "best_model.fit(X_train_processed, y_train)\n",
        "\n",
        "best_model.score(X_test_processed, y_test)"
      ],
      "metadata": {
        "colab": {
          "base_uri": "https://localhost:8080/"
        },
        "id": "I6KwKV2b5tX2",
        "outputId": "180f7894-2d1d-40b3-d4c5-7f90873994ac"
      },
      "execution_count": 52,
      "outputs": [
        {
          "output_type": "execute_result",
          "data": {
            "text/plain": [
              "0.9486970684039088"
            ]
          },
          "metadata": {},
          "execution_count": 52
        }
      ]
    },
    {
      "cell_type": "code",
      "source": [
        "# Scores by adjusting the parameters\n",
        "\n",
        "dec_tree_best = DecisionTreeClassifier(max_depth=5, min_samples_leaf=20, min_samples_split=2, random_state=42)\n",
        "dec_tree_best.fit(X_train_processed, y_train)\n",
        "predictions_dt = dec_tree_best.predict(X_test_processed)\n",
        "train_score_best = dec_tree_best.score(X_train_processed, y_train)\n",
        "test_score_best = dec_tree_best.score(X_test_processed, y_test)\n",
        "print(train_score_best)\n",
        "print(test_score_best)"
      ],
      "metadata": {
        "colab": {
          "base_uri": "https://localhost:8080/"
        },
        "id": "tvlzgVT55wl2",
        "outputId": "67ce9f9f-c46c-492c-b582-17e4a45b8305"
      },
      "execution_count": 53,
      "outputs": [
        {
          "output_type": "stream",
          "name": "stdout",
          "text": [
            "0.9603368649823417\n",
            "0.9486970684039088\n"
          ]
        }
      ]
    },
    {
      "cell_type": "markdown",
      "source": [
        "K-Nearest Neighbors (KNN)"
      ],
      "metadata": {
        "id": "3ECCfG7K6ip_"
      }
    },
    {
      "cell_type": "code",
      "source": [
        "# Make an instance of the Model (using default parameters)\n",
        "knn = KNeighborsClassifier()\n",
        "\n",
        "# Create a pipeline \n",
        "knn_pipe = make_pipeline(scaler, knn)\n",
        "\n",
        "# Fit the model on the training data\n",
        "knn_pipe.fit(X_train_processed, y_train)\n",
        "\n",
        "# Predict the target values for the test set\n",
        "predictions = knn_pipe.predict(X_test_processed)\n",
        "\n",
        "# Evaluate the model\n",
        "acc_score = knn_pipe.score(X_test_processed, y_test)\n",
        "acc_score"
      ],
      "metadata": {
        "colab": {
          "base_uri": "https://localhost:8080/"
        },
        "id": "Tzo2sjcQ6jHq",
        "outputId": "3526ae6c-a1e1-4673-9f78-2a5cf03fd287"
      },
      "execution_count": 60,
      "outputs": [
        {
          "output_type": "execute_result",
          "data": {
            "text/plain": [
              "0.9470684039087948"
            ]
          },
          "metadata": {},
          "execution_count": 60
        }
      ]
    },
    {
      "cell_type": "code",
      "source": [
        "# GridSearchCV to find the parameters\n",
        "# Source: \"https://login.codingdojo.com/m/213/7198/89532\"\n",
        "\n",
        "pipe_param_grid = {'kneighborsclassifier__n_neighbors': range(1,10),\n",
        "              'kneighborsclassifier__p': range(1,5),\n",
        "              'kneighborsclassifier__weights': ['distance','uniform']}\n",
        "knn_pipe_gs = GridSearchCV(knn_pipe, pipe_param_grid)\n",
        "knn_pipe_gs.fit(X_train_processed, y_train)\n",
        "print(knn_pipe_gs.best_params_)\n",
        "best_pipe = knn_pipe_gs.best_estimator_\n",
        "print(best_pipe.score(X_test_processed, y_test))"
      ],
      "metadata": {
        "colab": {
          "base_uri": "https://localhost:8080/"
        },
        "id": "tGNKbMu06rs4",
        "outputId": "8d40c417-44b7-4a8c-bded-a2dd156f63dd"
      },
      "execution_count": 61,
      "outputs": [
        {
          "output_type": "stream",
          "name": "stdout",
          "text": [
            "{'kneighborsclassifier__n_neighbors': 6, 'kneighborsclassifier__p': 1, 'kneighborsclassifier__weights': 'uniform'}\n",
            "0.9486970684039088\n"
          ]
        }
      ]
    },
    {
      "cell_type": "markdown",
      "source": [
        "Logistic Regression"
      ],
      "metadata": {
        "id": "ZyJjRQma8cQK"
      }
    },
    {
      "cell_type": "code",
      "source": [
        "# Instance of the model\n",
        "logreg = LogisticRegression()\n",
        "\n",
        "# Pipeline\n",
        "logreg_pipe = make_pipeline(scaler, logreg)\n",
        "\n",
        "# Training the data\n",
        "logreg_pipe.fit(X_train_processed, y_train)\n",
        "\n",
        "# Predict the test set\n",
        "predictions_lr = logreg_pipe.predict(X_test_processed)\n",
        "\n",
        "# Evaluate the model\n",
        "print(logreg_pipe.score(X_train_processed, y_train))\n",
        "print(logreg_pipe.score(X_test_processed, y_test))"
      ],
      "metadata": {
        "colab": {
          "base_uri": "https://localhost:8080/"
        },
        "id": "93gJnYUF8f3K",
        "outputId": "45007386-a385-4ad1-be60-013290948418"
      },
      "execution_count": 63,
      "outputs": [
        {
          "output_type": "stream",
          "name": "stdout",
          "text": [
            "0.9606085302906818\n",
            "0.9486970684039088\n"
          ]
        }
      ]
    },
    {
      "cell_type": "code",
      "source": [
        "# L1 Tuning \n",
        "\n",
        "c_values = [0.0001, 0.001, 0.01, 0.1, 1, 10, 100, 1000]\n",
        "train_scores = []\n",
        "test_scores = []\n",
        "for c in c_values:\n",
        "  log_reg = LogisticRegression(C=c, max_iter=1000, solver='liblinear', penalty='l1')\n",
        "  log_reg_pipe = make_pipeline(scaler, log_reg)\n",
        "  log_reg_pipe.fit(X_train_processed, y_train)\n",
        "  train_scores.append(log_reg_pipe.score(X_train_processed, y_train))\n",
        "  test_scores.append(log_reg_pipe.score(X_test_processed, y_test))\n",
        "\n",
        "fig, ax = plt.subplots(1,1)\n",
        "ax.plot(c_values, train_scores, label='Training Accuracy')\n",
        "ax.plot(c_values, test_scores, label='Testing Accuracy')\n",
        "ax.set_xticks(c_values)\n",
        "ax.set_title('Change in accuracy over C values for l1 regularization')\n",
        "ax.legend()\n",
        "ax.set_xscale('log')\n",
        "{c:score for c, score in zip(c_values, test_scores)}"
      ],
      "metadata": {
        "colab": {
          "base_uri": "https://localhost:8080/",
          "height": 600
        },
        "id": "zkhlmARn8nPz",
        "outputId": "af40b0e0-f371-4f72-adfd-8c0e9b8f665e"
      },
      "execution_count": 64,
      "outputs": [
        {
          "output_type": "execute_result",
          "data": {
            "text/plain": [
              "{0.0001: 0.9486970684039088,\n",
              " 0.001: 0.9486970684039088,\n",
              " 0.01: 0.9486970684039088,\n",
              " 0.1: 0.9486970684039088,\n",
              " 1: 0.9486970684039088,\n",
              " 10: 0.9486970684039088,\n",
              " 100: 0.9486970684039088,\n",
              " 1000: 0.9486970684039088}"
            ]
          },
          "metadata": {},
          "execution_count": 64
        },
        {
          "output_type": "display_data",
          "data": {
            "text/plain": [
              "<Figure size 640x480 with 1 Axes>"
            ],
            "image/png": "[encoded data removed]"
          },
          "metadata": {}
        }
      ]
    },
    {
      "cell_type": "code",
      "source": [
        "# L2 Tuning \n",
        "\n",
        "c_values = [0.0001, 0.001, 0.01, 0.1, 1, 10, 100, 1000]\n",
        "train_scores = []\n",
        "test_scores = []\n",
        "for c in c_values:\n",
        "  log_reg = LogisticRegression(C=c, max_iter=1000, solver='liblinear', penalty='l2')\n",
        "  log_reg_pipe = make_pipeline(scaler, log_reg)\n",
        "  log_reg_pipe.fit(X_train_processed, y_train)\n",
        "  train_scores.append(log_reg_pipe.score(X_train_processed, y_train))\n",
        "  test_scores.append(log_reg_pipe.score(X_test_processed, y_test))\n",
        "\n",
        "fig, ax = plt.subplots(1,1)\n",
        "ax.plot(c_values, train_scores, label='Training Accuracy')\n",
        "ax.plot(c_values, test_scores, label='Testing Accuracy')\n",
        "ax.set_xticks(c_values)\n",
        "ax.set_title('Change in accuracy over C values for l2 regularization')\n",
        "ax.legend()\n",
        "ax.set_xscale('log')\n",
        "{c:score for c, score in zip(c_values, test_scores)}"
      ],
      "metadata": {
        "colab": {
          "base_uri": "https://localhost:8080/",
          "height": 600
        },
        "id": "Z58ekkYf8uLz",
        "outputId": "7ce51ea7-20ca-473c-dcae-cf5707791b08"
      },
      "execution_count": 65,
      "outputs": [
        {
          "output_type": "execute_result",
          "data": {
            "text/plain": [
              "{0.0001: 0.9486970684039088,\n",
              " 0.001: 0.9486970684039088,\n",
              " 0.01: 0.9486970684039088,\n",
              " 0.1: 0.9486970684039088,\n",
              " 1: 0.9486970684039088,\n",
              " 10: 0.9486970684039088,\n",
              " 100: 0.9486970684039088,\n",
              " 1000: 0.9486970684039088}"
            ]
          },
          "metadata": {},
          "execution_count": 65
        },
        {
          "output_type": "display_data",
          "data": {
            "text/plain": [
              "<Figure size 640x480 with 1 Axes>"
            ],
            "image/png": "[encoded data removed]"
          },
          "metadata": {}
        }
      ]
    },
    {
      "cell_type": "markdown",
      "source": [
        "# Summary:\n",
        "\n",
        "The Classification Tree model with 'max_depth' of 5, 'min_samples_leaf' of 20 and 'min_samples_split' of 2 and the Logistic Regression Tree model have the same score on the testing set. They have an accuracy score of 94.87%.\n",
        "\n",
        "The KNN model with kneighborsclassifier__n_neighbors'of 6, 'kneighborsclassifier__p' of 1 nad 'kneighborsclassifier__weights' of 'uniform' has a score of 94.71 which is very slightly lower.\n",
        "\n",
        "All three of our models work very well on our test set but I will choose the **Classification Tree** as I think it is the easiest one to use and also has the best score."
      ],
      "metadata": {
        "id": "jPYcE_uH87xE"
      }
    },
    {
      "cell_type": "markdown",
      "source": [
        "# Sources:\n",
        "\n",
        "All the codes come from 'Coding Dojo'."
      ],
      "metadata": {
        "id": "Omjm-w3g-FLs"
      }
    }
  ]
}